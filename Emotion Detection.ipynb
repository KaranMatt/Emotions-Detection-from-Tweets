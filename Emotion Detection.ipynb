{
 "cells": [
  {
   "cell_type": "code",
   "execution_count": 1,
   "id": "d770246d",
   "metadata": {},
   "outputs": [
    {
     "data": {
      "text/html": [
       "<div>\n",
       "<style scoped>\n",
       "    .dataframe tbody tr th:only-of-type {\n",
       "        vertical-align: middle;\n",
       "    }\n",
       "\n",
       "    .dataframe tbody tr th {\n",
       "        vertical-align: top;\n",
       "    }\n",
       "\n",
       "    .dataframe thead th {\n",
       "        text-align: right;\n",
       "    }\n",
       "</style>\n",
       "<table border=\"1\" class=\"dataframe\">\n",
       "  <thead>\n",
       "    <tr style=\"text-align: right;\">\n",
       "      <th></th>\n",
       "      <th>Unnamed: 0</th>\n",
       "      <th>text</th>\n",
       "      <th>label</th>\n",
       "    </tr>\n",
       "  </thead>\n",
       "  <tbody>\n",
       "    <tr>\n",
       "      <th>0</th>\n",
       "      <td>0</td>\n",
       "      <td>i just feel really helpless and heavy hearted</td>\n",
       "      <td>4</td>\n",
       "    </tr>\n",
       "    <tr>\n",
       "      <th>1</th>\n",
       "      <td>1</td>\n",
       "      <td>ive enjoyed being able to slouch about relax a...</td>\n",
       "      <td>0</td>\n",
       "    </tr>\n",
       "    <tr>\n",
       "      <th>2</th>\n",
       "      <td>2</td>\n",
       "      <td>i gave up my internship with the dmrg and am f...</td>\n",
       "      <td>4</td>\n",
       "    </tr>\n",
       "    <tr>\n",
       "      <th>3</th>\n",
       "      <td>3</td>\n",
       "      <td>i dont know i feel so lost</td>\n",
       "      <td>0</td>\n",
       "    </tr>\n",
       "    <tr>\n",
       "      <th>4</th>\n",
       "      <td>4</td>\n",
       "      <td>i am a kindergarten teacher and i am thoroughl...</td>\n",
       "      <td>4</td>\n",
       "    </tr>\n",
       "    <tr>\n",
       "      <th>...</th>\n",
       "      <td>...</td>\n",
       "      <td>...</td>\n",
       "      <td>...</td>\n",
       "    </tr>\n",
       "    <tr>\n",
       "      <th>416804</th>\n",
       "      <td>416804</td>\n",
       "      <td>i feel like telling these horny devils to find...</td>\n",
       "      <td>2</td>\n",
       "    </tr>\n",
       "    <tr>\n",
       "      <th>416805</th>\n",
       "      <td>416805</td>\n",
       "      <td>i began to realize that when i was feeling agi...</td>\n",
       "      <td>3</td>\n",
       "    </tr>\n",
       "    <tr>\n",
       "      <th>416806</th>\n",
       "      <td>416806</td>\n",
       "      <td>i feel very curious be why previous early dawn...</td>\n",
       "      <td>5</td>\n",
       "    </tr>\n",
       "    <tr>\n",
       "      <th>416807</th>\n",
       "      <td>416807</td>\n",
       "      <td>i feel that becuase of the tyranical nature of...</td>\n",
       "      <td>3</td>\n",
       "    </tr>\n",
       "    <tr>\n",
       "      <th>416808</th>\n",
       "      <td>416808</td>\n",
       "      <td>i think that after i had spent some time inves...</td>\n",
       "      <td>5</td>\n",
       "    </tr>\n",
       "  </tbody>\n",
       "</table>\n",
       "<p>416809 rows × 3 columns</p>\n",
       "</div>"
      ],
      "text/plain": [
       "        Unnamed: 0                                               text  label\n",
       "0                0      i just feel really helpless and heavy hearted      4\n",
       "1                1  ive enjoyed being able to slouch about relax a...      0\n",
       "2                2  i gave up my internship with the dmrg and am f...      4\n",
       "3                3                         i dont know i feel so lost      0\n",
       "4                4  i am a kindergarten teacher and i am thoroughl...      4\n",
       "...            ...                                                ...    ...\n",
       "416804      416804  i feel like telling these horny devils to find...      2\n",
       "416805      416805  i began to realize that when i was feeling agi...      3\n",
       "416806      416806  i feel very curious be why previous early dawn...      5\n",
       "416807      416807  i feel that becuase of the tyranical nature of...      3\n",
       "416808      416808  i think that after i had spent some time inves...      5\n",
       "\n",
       "[416809 rows x 3 columns]"
      ]
     },
     "execution_count": 1,
     "metadata": {},
     "output_type": "execute_result"
    }
   ],
   "source": [
    "import numpy as np\n",
    "import pandas as pd\n",
    "import tensorflow as tf\n",
    "\n",
    "emo_df=pd.read_csv('data/text.csv')\n",
    "emo_df"
   ]
  },
  {
   "cell_type": "code",
   "execution_count": null,
   "id": "d5c6072a",
   "metadata": {},
   "outputs": [],
   "source": [
    "emo_df.drop(columns=['Unnamed: 0'],inplace=True)\n",
    "# 0: sadness 1:joy 2:love 3:anger 4:fear 5:surprise"
   ]
  },
  {
   "cell_type": "code",
   "execution_count": 8,
   "id": "f3429765",
   "metadata": {},
   "outputs": [
    {
     "data": {
      "text/plain": [
       "((333447, 2), (83362, 2))"
      ]
     },
     "execution_count": 8,
     "metadata": {},
     "output_type": "execute_result"
    }
   ],
   "source": [
    "from sklearn.model_selection import train_test_split\n",
    "train_set,val_set=train_test_split(emo_df,test_size=0.2,random_state=42)\n",
    "train_set.shape,val_set.shape"
   ]
  },
  {
   "cell_type": "code",
   "execution_count": 9,
   "id": "845a8c15",
   "metadata": {},
   "outputs": [],
   "source": [
    "from tensorflow.keras.layers import TextVectorization,Embedding,Dense,Input"
   ]
  },
  {
   "cell_type": "code",
   "execution_count": 10,
   "id": "27017cd2",
   "metadata": {},
   "outputs": [],
   "source": [
    "train_inputs=train_set['text'].to_numpy()\n",
    "val_inputs=val_set['text'].to_numpy()\n",
    "train_target=train_set['label'].to_numpy()\n",
    "val_target=val_set['label'].to_numpy()"
   ]
  },
  {
   "cell_type": "code",
   "execution_count": 14,
   "id": "1753dd92",
   "metadata": {},
   "outputs": [],
   "source": [
    "text_vectorizer=TextVectorization(max_tokens=None,output_mode='int',split='whitespace',ngrams=None,output_sequence_length=None,\n",
    "                                  standardize='lower_and_strip_punctuation')"
   ]
  },
  {
   "cell_type": "code",
   "execution_count": 20,
   "id": "5db76669",
   "metadata": {},
   "outputs": [],
   "source": [
    "sum([len(i.split()) for i in train_inputs])/len(train_inputs)\n",
    "max_vocab=10000\n",
    "max_length=20"
   ]
  },
  {
   "cell_type": "code",
   "execution_count": 21,
   "id": "f13a66a8",
   "metadata": {},
   "outputs": [],
   "source": [
    "text_vectorizer=TextVectorization(max_tokens=max_vocab,output_sequence_length=max_length)"
   ]
  },
  {
   "cell_type": "code",
   "execution_count": 22,
   "id": "402c8f1d",
   "metadata": {},
   "outputs": [],
   "source": [
    "text_vectorizer.adapt(train_inputs)"
   ]
  },
  {
   "cell_type": "code",
   "execution_count": 23,
   "id": "b418570c",
   "metadata": {},
   "outputs": [],
   "source": [
    "embed=Embedding(input_dim=max_vocab,output_dim=128)"
   ]
  },
  {
   "cell_type": "code",
   "execution_count": 24,
   "id": "251a9e65",
   "metadata": {},
   "outputs": [],
   "source": [
    "import mlflow\n",
    "import mlflow.keras"
   ]
  },
  {
   "cell_type": "code",
   "execution_count": 31,
   "id": "e9d76496",
   "metadata": {},
   "outputs": [],
   "source": [
    "def model_eval(model):\n",
    "    train_results=model.evaluate(train_inputs,tf.one_hot(train_target,depth=6))\n",
    "    val_results=model.evaluate(val_inputs,tf.one_hot(val_target,depth=6))\n",
    "    print(f'Train_Metrics: {train_results}')\n",
    "    print(f'Test_Metrics: {val_results}')\n",
    "    train_acc=train_results[1]\n",
    "    val_acc=val_results[1]\n",
    "    train_prec=train_results[2]\n",
    "    val_prec=val_results[2]\n",
    "    train_rec=train_results[3]\n",
    "    val_rec=val_results[3]\n",
    "    mlflow.log_metric('Train_Accuracy',train_acc)\n",
    "    mlflow.log_metric('Test_Accuracy',val_acc)\n",
    "    mlflow.log_metric('Train_Precision',train_prec)\n",
    "    mlflow.log_metric('Test_Precision',val_prec)\n",
    "    mlflow.log_metric('Train_Recall',train_rec)\n",
    "    mlflow.log_metric('Test_Recall',val_rec)"
   ]
  },
  {
   "cell_type": "code",
   "execution_count": 26,
   "id": "9d1df022",
   "metadata": {},
   "outputs": [],
   "source": [
    "from tensorflow.keras.layers import Dense,GRU,LSTM,Bidirectional,Input\n",
    "from tensorflow.keras.losses import CategoricalCrossentropy\n",
    "from tensorflow.keras.optimizers import Adam\n",
    "from tensorflow.keras.models import Model"
   ]
  },
  {
   "cell_type": "code",
   "execution_count": 27,
   "id": "4836c561",
   "metadata": {},
   "outputs": [
    {
     "name": "stderr",
     "output_type": "stream",
     "text": [
      "2025/10/22 02:57:08 INFO mlflow.tracking.fluent: Experiment with name 'Emotion_Detection' does not exist. Creating a new experiment.\n"
     ]
    },
    {
     "data": {
      "text/plain": [
       "<Experiment: artifact_location='file:///c:/KM/Coding%21%21%21/vs%20code/Scikit%20Learn/Emotions%20Sentiment%20Analysis/mlruns/546541585463291312', creation_time=1761082028907, experiment_id='546541585463291312', last_update_time=1761082028907, lifecycle_stage='active', name='Emotion_Detection', tags={}>"
      ]
     },
     "execution_count": 27,
     "metadata": {},
     "output_type": "execute_result"
    }
   ],
   "source": [
    "mlflow.set_experiment('Emotion_Detection')"
   ]
  },
  {
   "cell_type": "code",
   "execution_count": 32,
   "id": "19e2e1ef",
   "metadata": {},
   "outputs": [
    {
     "name": "stdout",
     "output_type": "stream",
     "text": [
      "Epoch 1/5\n",
      "\u001b[1m10421/10421\u001b[0m \u001b[32m━━━━━━━━━━━━━━━━━━━━\u001b[0m\u001b[37m\u001b[0m \u001b[1m88s\u001b[0m 8ms/step - accuracy: 0.8813 - loss: 0.2613 - precision: 0.9248 - recall: 0.8503 - val_accuracy: 0.8671 - val_loss: 0.3047 - val_precision: 0.9063 - val_recall: 0.8479\n",
      "Epoch 2/5\n",
      "\u001b[1m10421/10421\u001b[0m \u001b[32m━━━━━━━━━━━━━━━━━━━━\u001b[0m\u001b[37m\u001b[0m \u001b[1m85s\u001b[0m 8ms/step - accuracy: 0.9007 - loss: 0.2022 - precision: 0.9259 - recall: 0.8819 - val_accuracy: 0.8649 - val_loss: 0.3123 - val_precision: 0.9019 - val_recall: 0.8467\n",
      "Epoch 3/5\n",
      "\u001b[1m10421/10421\u001b[0m \u001b[32m━━━━━━━━━━━━━━━━━━━━\u001b[0m\u001b[37m\u001b[0m \u001b[1m90s\u001b[0m 9ms/step - accuracy: 0.9076 - loss: 0.1854 - precision: 0.9277 - recall: 0.8923 - val_accuracy: 0.8617 - val_loss: 0.3367 - val_precision: 0.8939 - val_recall: 0.8473\n",
      "Epoch 4/5\n",
      "\u001b[1m10421/10421\u001b[0m \u001b[32m━━━━━━━━━━━━━━━━━━━━\u001b[0m\u001b[37m\u001b[0m \u001b[1m107s\u001b[0m 10ms/step - accuracy: 0.9131 - loss: 0.1711 - precision: 0.9296 - recall: 0.9008 - val_accuracy: 0.8621 - val_loss: 0.3734 - val_precision: 0.8860 - val_recall: 0.8512\n",
      "Epoch 5/5\n",
      "\u001b[1m10421/10421\u001b[0m \u001b[32m━━━━━━━━━━━━━━━━━━━━\u001b[0m\u001b[37m\u001b[0m \u001b[1m107s\u001b[0m 10ms/step - accuracy: 0.9178 - loss: 0.1589 - precision: 0.9309 - recall: 0.9076 - val_accuracy: 0.8643 - val_loss: 0.3921 - val_precision: 0.8821 - val_recall: 0.8561\n",
      "\u001b[1m10421/10421\u001b[0m \u001b[32m━━━━━━━━━━━━━━━━━━━━\u001b[0m\u001b[37m\u001b[0m \u001b[1m36s\u001b[0m 3ms/step - accuracy: 0.9277 - loss: 0.1371 - precision: 0.9384 - recall: 0.9185\n",
      "\u001b[1m2606/2606\u001b[0m \u001b[32m━━━━━━━━━━━━━━━━━━━━\u001b[0m\u001b[37m\u001b[0m \u001b[1m8s\u001b[0m 3ms/step - accuracy: 0.8643 - loss: 0.3921 - precision: 0.8821 - recall: 0.8561\n",
      "Train_Metrics: [0.1371362805366516, 0.9277246594429016, 0.938414990901947, 0.9184758067131042]\n",
      "Test_Metrics: [0.39207005500793457, 0.8643386960029602, 0.8820803165435791, 0.8561455011367798]\n"
     ]
    }
   ],
   "source": [
    "\n",
    "with mlflow.start_run(run_name='GRU'):\n",
    "    inputs=Input(shape=(1,),dtype=tf.string)\n",
    "    x=text_vectorizer(inputs)\n",
    "    x=embed(x)\n",
    "    x=GRU(32,activation='tanh',return_sequences=True)(x)\n",
    "    x=GRU(32,activation='tanh')(x)\n",
    "    outputs=Dense(6,activation='softmax')(x)\n",
    "    model_1=Model(inputs,outputs)\n",
    "    model_1.compile(loss=CategoricalCrossentropy(),optimizer=Adam(),metrics=['accuracy','precision','recall'])\n",
    "    model_1.fit(train_inputs,tf.one_hot(train_target,depth=6),epochs=5,validation_data=(val_inputs,tf.one_hot(val_target,depth=6)))\n",
    "\n",
    "    mlflow.log_params({'epochs':5,'loss':'CategoricalCrossentropy','optimizer':'Adam','learning_rate':'default',\n",
    "                       'model_type':'GRU','activation':'tanh','metrics':'Accuracy,Precison,Recall','layers':2,'units':'48,48'})\n",
    "    model_eval(model_1)"
   ]
  },
  {
   "cell_type": "code",
   "execution_count": 33,
   "id": "10ae78f1",
   "metadata": {},
   "outputs": [
    {
     "name": "stdout",
     "output_type": "stream",
     "text": [
      "Epoch 1/5\n",
      "\u001b[1m10421/10421\u001b[0m \u001b[32m━━━━━━━━━━━━━━━━━━━━\u001b[0m\u001b[37m\u001b[0m \u001b[1m95s\u001b[0m 9ms/step - accuracy: 0.8844 - loss: 0.2526 - precision: 0.9241 - recall: 0.8546 - val_accuracy: 0.8661 - val_loss: 0.3170 - val_precision: 0.8999 - val_recall: 0.8506\n",
      "Epoch 2/5\n",
      "\u001b[1m10421/10421\u001b[0m \u001b[32m━━━━━━━━━━━━━━━━━━━━\u001b[0m\u001b[37m\u001b[0m \u001b[1m91s\u001b[0m 9ms/step - accuracy: 0.9065 - loss: 0.1907 - precision: 0.9271 - recall: 0.8901 - val_accuracy: 0.8666 - val_loss: 0.3326 - val_precision: 0.8902 - val_recall: 0.8546\n",
      "Epoch 3/5\n",
      "\u001b[1m10421/10421\u001b[0m \u001b[32m━━━━━━━━━━━━━━━━━━━━\u001b[0m\u001b[37m\u001b[0m \u001b[1m94s\u001b[0m 9ms/step - accuracy: 0.9136 - loss: 0.1703 - precision: 0.9294 - recall: 0.9014 - val_accuracy: 0.8638 - val_loss: 0.3503 - val_precision: 0.8885 - val_recall: 0.8524\n",
      "Epoch 4/5\n",
      "\u001b[1m10421/10421\u001b[0m \u001b[32m━━━━━━━━━━━━━━━━━━━━\u001b[0m\u001b[37m\u001b[0m \u001b[1m94s\u001b[0m 9ms/step - accuracy: 0.9186 - loss: 0.1554 - precision: 0.9313 - recall: 0.9093 - val_accuracy: 0.8605 - val_loss: 0.3815 - val_precision: 0.8832 - val_recall: 0.8508\n",
      "Epoch 5/5\n",
      "\u001b[1m10421/10421\u001b[0m \u001b[32m━━━━━━━━━━━━━━━━━━━━\u001b[0m\u001b[37m\u001b[0m \u001b[1m91s\u001b[0m 9ms/step - accuracy: 0.9239 - loss: 0.1431 - precision: 0.9337 - recall: 0.9162 - val_accuracy: 0.8608 - val_loss: 0.4213 - val_precision: 0.8773 - val_recall: 0.8540\n",
      "\u001b[1m10421/10421\u001b[0m \u001b[32m━━━━━━━━━━━━━━━━━━━━\u001b[0m\u001b[37m\u001b[0m \u001b[1m35s\u001b[0m 3ms/step - accuracy: 0.9337 - loss: 0.1215 - precision: 0.9421 - recall: 0.9254\n",
      "\u001b[1m2606/2606\u001b[0m \u001b[32m━━━━━━━━━━━━━━━━━━━━\u001b[0m\u001b[37m\u001b[0m \u001b[1m8s\u001b[0m 3ms/step - accuracy: 0.8608 - loss: 0.4213 - precision: 0.8773 - recall: 0.8540\n",
      "Train_Metrics: [0.12148196250200272, 0.9337105751037598, 0.9420953392982483, 0.9253524541854858]\n",
      "Test_Metrics: [0.4213033616542816, 0.8607639074325562, 0.8772673606872559, 0.8540102243423462]\n"
     ]
    }
   ],
   "source": [
    "with mlflow.start_run(run_name='LSTM'):\n",
    "    inputs=Input(shape=(1,),dtype=tf.string)\n",
    "    x=text_vectorizer(inputs)\n",
    "    x=embed(x)\n",
    "    x=LSTM(48,activation='tanh',return_sequences=True)(x)\n",
    "    x=LSTM(48,activation='tanh')(x)\n",
    "    outputs=Dense(6,activation='softmax')(x)\n",
    "    model_2=Model(inputs,outputs)\n",
    "    model_2.compile(loss=CategoricalCrossentropy(),optimizer=Adam(),metrics=['accuracy','precision','recall'])\n",
    "    model_2.fit(train_inputs,tf.one_hot(train_target,depth=6),epochs=5,validation_data=(val_inputs,tf.one_hot(val_target,depth=6)))\n",
    "\n",
    "    mlflow.log_params({'epochs':5,'loss':'CategoricalCrossentropy','optimizer':'Adam','learning_rate':'default',\n",
    "                       'model_type':'LSTM','activation':'tanh','metrics':'Accuracy,Precison,Recall','layers':2,'units':'48,48'})\n",
    "    model_eval(model_2)"
   ]
  },
  {
   "cell_type": "code",
   "execution_count": 34,
   "id": "9f84d4ee",
   "metadata": {},
   "outputs": [
    {
     "name": "stdout",
     "output_type": "stream",
     "text": [
      "Epoch 1/5\n",
      "\u001b[1m10421/10421\u001b[0m \u001b[32m━━━━━━━━━━━━━━━━━━━━\u001b[0m\u001b[37m\u001b[0m \u001b[1m108s\u001b[0m 10ms/step - accuracy: 0.8955 - loss: 0.2249 - precision: 0.9249 - recall: 0.8730 - val_accuracy: 0.8651 - val_loss: 0.3551 - val_precision: 0.8884 - val_recall: 0.8539\n",
      "Epoch 2/5\n",
      "\u001b[1m10421/10421\u001b[0m \u001b[32m━━━━━━━━━━━━━━━━━━━━\u001b[0m\u001b[37m\u001b[0m \u001b[1m114s\u001b[0m 11ms/step - accuracy: 0.9127 - loss: 0.1726 - precision: 0.9284 - recall: 0.9008 - val_accuracy: 0.8584 - val_loss: 0.3716 - val_precision: 0.8831 - val_recall: 0.8471\n",
      "Epoch 3/5\n",
      "\u001b[1m10421/10421\u001b[0m \u001b[32m━━━━━━━━━━━━━━━━━━━━\u001b[0m\u001b[37m\u001b[0m \u001b[1m102s\u001b[0m 10ms/step - accuracy: 0.9194 - loss: 0.1564 - precision: 0.9312 - recall: 0.9099 - val_accuracy: 0.8614 - val_loss: 0.3971 - val_precision: 0.8795 - val_recall: 0.8527\n",
      "Epoch 4/5\n",
      "\u001b[1m10421/10421\u001b[0m \u001b[32m━━━━━━━━━━━━━━━━━━━━\u001b[0m\u001b[37m\u001b[0m \u001b[1m102s\u001b[0m 10ms/step - accuracy: 0.9239 - loss: 0.1441 - precision: 0.9335 - recall: 0.9164 - val_accuracy: 0.8595 - val_loss: 0.4547 - val_precision: 0.8748 - val_recall: 0.8536\n",
      "Epoch 5/5\n",
      "\u001b[1m10421/10421\u001b[0m \u001b[32m━━━━━━━━━━━━━━━━━━━━\u001b[0m\u001b[37m\u001b[0m \u001b[1m121s\u001b[0m 12ms/step - accuracy: 0.9270 - loss: 0.1345 - precision: 0.9345 - recall: 0.9211 - val_accuracy: 0.8561 - val_loss: 0.4623 - val_precision: 0.8696 - val_recall: 0.8500\n",
      "\u001b[1m10421/10421\u001b[0m \u001b[32m━━━━━━━━━━━━━━━━━━━━\u001b[0m\u001b[37m\u001b[0m \u001b[1m40s\u001b[0m 4ms/step - accuracy: 0.9372 - loss: 0.1141 - precision: 0.9440 - recall: 0.9304\n",
      "\u001b[1m2606/2606\u001b[0m \u001b[32m━━━━━━━━━━━━━━━━━━━━\u001b[0m\u001b[37m\u001b[0m \u001b[1m8s\u001b[0m 3ms/step - accuracy: 0.8561 - loss: 0.4623 - precision: 0.8696 - recall: 0.8500\n",
      "Train_Metrics: [0.11411041766405106, 0.9372463822364807, 0.9439979791641235, 0.9303637742996216]\n",
      "Test_Metrics: [0.4623301923274994, 0.8560975193977356, 0.8696334958076477, 0.8499795794487]\n"
     ]
    }
   ],
   "source": [
    "with mlflow.start_run(run_name='Bi_GRU'):\n",
    "    inputs=Input(shape=(1,),dtype=tf.string)\n",
    "    x=text_vectorizer(inputs)\n",
    "    x=embed(x)\n",
    "    x=Bidirectional(GRU(32,activation='tanh',return_sequences=True))(x)\n",
    "    x=Bidirectional(GRU(32,activation='tanh'))(x)\n",
    "    outputs=Dense(6,activation='softmax')(x)\n",
    "    model_3=Model(inputs,outputs)\n",
    "    model_3.compile(loss=CategoricalCrossentropy(),optimizer=Adam(),metrics=['accuracy','precision','recall'])\n",
    "    model_3.fit(train_inputs,tf.one_hot(train_target,depth=6),epochs=5,validation_data=(val_inputs,tf.one_hot(val_target,depth=6)))\n",
    "\n",
    "    mlflow.log_params({'epochs':5,'loss':'CategoricalCrossentropy','optimizer':'Adam','learning_rate':'default',\n",
    "                       'model_type':'Bi-GRU','activation':'tanh','metrics':'Accuracy,Precison,Recall','layers':2,'units':'32,32'})\n",
    "    model_eval(model_3)"
   ]
  },
  {
   "cell_type": "code",
   "execution_count": 35,
   "id": "fe4a5515",
   "metadata": {},
   "outputs": [
    {
     "name": "stdout",
     "output_type": "stream",
     "text": [
      "Epoch 1/5\n",
      "\u001b[1m10421/10421\u001b[0m \u001b[32m━━━━━━━━━━━━━━━━━━━━\u001b[0m\u001b[37m\u001b[0m \u001b[1m100s\u001b[0m 9ms/step - accuracy: 0.8912 - loss: 0.2351 - precision: 0.9242 - recall: 0.8656 - val_accuracy: 0.8637 - val_loss: 0.3475 - val_precision: 0.8894 - val_recall: 0.8518\n",
      "Epoch 2/5\n",
      "\u001b[1m10421/10421\u001b[0m \u001b[32m━━━━━━━━━━━━━━━━━━━━\u001b[0m\u001b[37m\u001b[0m \u001b[1m95s\u001b[0m 9ms/step - accuracy: 0.9122 - loss: 0.1732 - precision: 0.9288 - recall: 0.8995 - val_accuracy: 0.8609 - val_loss: 0.3645 - val_precision: 0.8824 - val_recall: 0.8504\n",
      "Epoch 3/5\n",
      "\u001b[1m10421/10421\u001b[0m \u001b[32m━━━━━━━━━━━━━━━━━━━━\u001b[0m\u001b[37m\u001b[0m \u001b[1m96s\u001b[0m 9ms/step - accuracy: 0.9203 - loss: 0.1533 - precision: 0.9321 - recall: 0.9111 - val_accuracy: 0.8582 - val_loss: 0.4046 - val_precision: 0.8767 - val_recall: 0.8497\n",
      "Epoch 4/5\n",
      "\u001b[1m10421/10421\u001b[0m \u001b[32m━━━━━━━━━━━━━━━━━━━━\u001b[0m\u001b[37m\u001b[0m \u001b[1m107s\u001b[0m 10ms/step - accuracy: 0.9243 - loss: 0.1409 - precision: 0.9338 - recall: 0.9171 - val_accuracy: 0.8611 - val_loss: 0.4277 - val_precision: 0.8780 - val_recall: 0.8540\n",
      "Epoch 5/5\n",
      "\u001b[1m10421/10421\u001b[0m \u001b[32m━━━━━━━━━━━━━━━━━━━━\u001b[0m\u001b[37m\u001b[0m \u001b[1m95s\u001b[0m 9ms/step - accuracy: 0.9281 - loss: 0.1311 - precision: 0.9355 - recall: 0.9222 - val_accuracy: 0.8563 - val_loss: 0.4535 - val_precision: 0.8708 - val_recall: 0.8499\n",
      "\u001b[1m10421/10421\u001b[0m \u001b[32m━━━━━━━━━━━━━━━━━━━━\u001b[0m\u001b[37m\u001b[0m \u001b[1m34s\u001b[0m 3ms/step - accuracy: 0.9377 - loss: 0.1132 - precision: 0.9445 - recall: 0.9308\n",
      "\u001b[1m2606/2606\u001b[0m \u001b[32m━━━━━━━━━━━━━━━━━━━━\u001b[0m\u001b[37m\u001b[0m \u001b[1m8s\u001b[0m 3ms/step - accuracy: 0.8563 - loss: 0.4535 - precision: 0.8708 - recall: 0.8499\n",
      "Train_Metrics: [0.11324868351221085, 0.9377082586288452, 0.9445167779922485, 0.930849552154541]\n",
      "Test_Metrics: [0.45346152782440186, 0.8563254475593567, 0.870779812335968, 0.8499196171760559]\n"
     ]
    }
   ],
   "source": [
    "with mlflow.start_run(run_name='Bi_LSTM'):\n",
    "    inputs=Input(shape=(1,),dtype=tf.string)\n",
    "    x=text_vectorizer(inputs)\n",
    "    x=embed(x)\n",
    "    x=Bidirectional(LSTM(32,activation='tanh',return_sequences=True))(x)\n",
    "    x=Bidirectional(LSTM(32,activation='tanh'))(x)\n",
    "    outputs=Dense(6,activation='softmax')(x)\n",
    "    model_4=Model(inputs,outputs)\n",
    "    model_4.compile(loss=CategoricalCrossentropy(),optimizer=Adam(),metrics=['accuracy','precision','recall'])\n",
    "    model_4.fit(train_inputs,tf.one_hot(train_target,depth=6),epochs=5,validation_data=(val_inputs,tf.one_hot(val_target,depth=6)))\n",
    "\n",
    "    mlflow.log_params({'epochs':5,'loss':'CategoricalCrossentropy','optimizer':'Adam','learning_rate':'default',\n",
    "                       'model_type':'Bi-LSTM','activation':'tanh','metrics':'Accuracy,Precison,Recall','layers':2,'units':'32,32'})\n",
    "    model_eval(model_4)"
   ]
  },
  {
   "cell_type": "code",
   "execution_count": 36,
   "id": "929b22b2",
   "metadata": {},
   "outputs": [],
   "source": [
    "model_1.save('Models/gru.keras')"
   ]
  },
  {
   "cell_type": "code",
   "execution_count": 38,
   "id": "562b5bd6",
   "metadata": {},
   "outputs": [],
   "source": [
    "model_2.save('Models/lstm.keras')"
   ]
  },
  {
   "cell_type": "code",
   "execution_count": 39,
   "id": "cdde3bd6",
   "metadata": {},
   "outputs": [],
   "source": [
    "model_3.save('Models/bigru.keras')"
   ]
  },
  {
   "cell_type": "code",
   "execution_count": 40,
   "id": "32511f24",
   "metadata": {},
   "outputs": [],
   "source": [
    "model_4.save('Models/bilstm.keras')"
   ]
  },
  {
   "cell_type": "code",
   "execution_count": null,
   "id": "dfe7a05f",
   "metadata": {},
   "outputs": [],
   "source": []
  }
 ],
 "metadata": {
  "kernelspec": {
   "display_name": "Python 3",
   "language": "python",
   "name": "python3"
  },
  "language_info": {
   "codemirror_mode": {
    "name": "ipython",
    "version": 3
   },
   "file_extension": ".py",
   "mimetype": "text/x-python",
   "name": "python",
   "nbconvert_exporter": "python",
   "pygments_lexer": "ipython3",
   "version": "3.11.8"
  }
 },
 "nbformat": 4,
 "nbformat_minor": 5
}
