{
 "cells": [
  {
   "cell_type": "code",
   "execution_count": 1,
   "id": "d770246d",
   "metadata": {},
   "outputs": [
    {
     "data": {
      "text/html": [
       "<div>\n",
       "<style scoped>\n",
       "    .dataframe tbody tr th:only-of-type {\n",
       "        vertical-align: middle;\n",
       "    }\n",
       "\n",
       "    .dataframe tbody tr th {\n",
       "        vertical-align: top;\n",
       "    }\n",
       "\n",
       "    .dataframe thead th {\n",
       "        text-align: right;\n",
       "    }\n",
       "</style>\n",
       "<table border=\"1\" class=\"dataframe\">\n",
       "  <thead>\n",
       "    <tr style=\"text-align: right;\">\n",
       "      <th></th>\n",
       "      <th>Unnamed: 0</th>\n",
       "      <th>text</th>\n",
       "      <th>label</th>\n",
       "    </tr>\n",
       "  </thead>\n",
       "  <tbody>\n",
       "    <tr>\n",
       "      <th>0</th>\n",
       "      <td>0</td>\n",
       "      <td>i just feel really helpless and heavy hearted</td>\n",
       "      <td>4</td>\n",
       "    </tr>\n",
       "    <tr>\n",
       "      <th>1</th>\n",
       "      <td>1</td>\n",
       "      <td>ive enjoyed being able to slouch about relax a...</td>\n",
       "      <td>0</td>\n",
       "    </tr>\n",
       "    <tr>\n",
       "      <th>2</th>\n",
       "      <td>2</td>\n",
       "      <td>i gave up my internship with the dmrg and am f...</td>\n",
       "      <td>4</td>\n",
       "    </tr>\n",
       "    <tr>\n",
       "      <th>3</th>\n",
       "      <td>3</td>\n",
       "      <td>i dont know i feel so lost</td>\n",
       "      <td>0</td>\n",
       "    </tr>\n",
       "    <tr>\n",
       "      <th>4</th>\n",
       "      <td>4</td>\n",
       "      <td>i am a kindergarten teacher and i am thoroughl...</td>\n",
       "      <td>4</td>\n",
       "    </tr>\n",
       "    <tr>\n",
       "      <th>...</th>\n",
       "      <td>...</td>\n",
       "      <td>...</td>\n",
       "      <td>...</td>\n",
       "    </tr>\n",
       "    <tr>\n",
       "      <th>416804</th>\n",
       "      <td>416804</td>\n",
       "      <td>i feel like telling these horny devils to find...</td>\n",
       "      <td>2</td>\n",
       "    </tr>\n",
       "    <tr>\n",
       "      <th>416805</th>\n",
       "      <td>416805</td>\n",
       "      <td>i began to realize that when i was feeling agi...</td>\n",
       "      <td>3</td>\n",
       "    </tr>\n",
       "    <tr>\n",
       "      <th>416806</th>\n",
       "      <td>416806</td>\n",
       "      <td>i feel very curious be why previous early dawn...</td>\n",
       "      <td>5</td>\n",
       "    </tr>\n",
       "    <tr>\n",
       "      <th>416807</th>\n",
       "      <td>416807</td>\n",
       "      <td>i feel that becuase of the tyranical nature of...</td>\n",
       "      <td>3</td>\n",
       "    </tr>\n",
       "    <tr>\n",
       "      <th>416808</th>\n",
       "      <td>416808</td>\n",
       "      <td>i think that after i had spent some time inves...</td>\n",
       "      <td>5</td>\n",
       "    </tr>\n",
       "  </tbody>\n",
       "</table>\n",
       "<p>416809 rows × 3 columns</p>\n",
       "</div>"
      ],
      "text/plain": [
       "        Unnamed: 0                                               text  label\n",
       "0                0      i just feel really helpless and heavy hearted      4\n",
       "1                1  ive enjoyed being able to slouch about relax a...      0\n",
       "2                2  i gave up my internship with the dmrg and am f...      4\n",
       "3                3                         i dont know i feel so lost      0\n",
       "4                4  i am a kindergarten teacher and i am thoroughl...      4\n",
       "...            ...                                                ...    ...\n",
       "416804      416804  i feel like telling these horny devils to find...      2\n",
       "416805      416805  i began to realize that when i was feeling agi...      3\n",
       "416806      416806  i feel very curious be why previous early dawn...      5\n",
       "416807      416807  i feel that becuase of the tyranical nature of...      3\n",
       "416808      416808  i think that after i had spent some time inves...      5\n",
       "\n",
       "[416809 rows x 3 columns]"
      ]
     },
     "execution_count": 1,
     "metadata": {},
     "output_type": "execute_result"
    }
   ],
   "source": [
    "import numpy as np\n",
    "import pandas as pd\n",
    "import tensorflow as tf\n",
    "\n",
    "emo_df=pd.read_csv('data/text.csv')\n",
    "emo_df"
   ]
  },
  {
   "cell_type": "code",
   "execution_count": 2,
   "id": "d5c6072a",
   "metadata": {},
   "outputs": [],
   "source": [
    "emo_df.drop(columns=['Unnamed: 0'],inplace=True)\n",
    "# 0: sadness 1:joy 2:love 3:anger 4:fear 5:surprise"
   ]
  },
  {
   "cell_type": "code",
   "execution_count": 4,
   "id": "d14b2e57",
   "metadata": {},
   "outputs": [
    {
     "data": {
      "text/plain": [
       "label\n",
       "1    141067\n",
       "0    121187\n",
       "3     57317\n",
       "4     47712\n",
       "2     34554\n",
       "5     14972\n",
       "Name: count, dtype: int64"
      ]
     },
     "execution_count": 4,
     "metadata": {},
     "output_type": "execute_result"
    }
   ],
   "source": [
    "emo_df['label'].value_counts()"
   ]
  },
  {
   "cell_type": "code",
   "execution_count": 6,
   "id": "f3429765",
   "metadata": {},
   "outputs": [
    {
     "data": {
      "text/plain": [
       "((333447, 2), (83362, 2))"
      ]
     },
     "execution_count": 6,
     "metadata": {},
     "output_type": "execute_result"
    }
   ],
   "source": [
    "from sklearn.model_selection import train_test_split\n",
    "train_set,val_set=train_test_split(emo_df,test_size=0.2,random_state=42,stratify=emo_df['label'])\n",
    "train_set.shape,val_set.shape"
   ]
  },
  {
   "cell_type": "code",
   "execution_count": 7,
   "id": "845a8c15",
   "metadata": {},
   "outputs": [],
   "source": [
    "from tensorflow.keras.layers import TextVectorization,Embedding,Dense,Input"
   ]
  },
  {
   "cell_type": "code",
   "execution_count": 8,
   "id": "27017cd2",
   "metadata": {},
   "outputs": [],
   "source": [
    "train_inputs=train_set['text'].to_numpy()\n",
    "val_inputs=val_set['text'].to_numpy()\n",
    "train_target=train_set['label'].to_numpy()\n",
    "val_target=val_set['label'].to_numpy()"
   ]
  },
  {
   "cell_type": "code",
   "execution_count": 9,
   "id": "1753dd92",
   "metadata": {},
   "outputs": [],
   "source": [
    "text_vectorizer=TextVectorization(max_tokens=None,output_mode='int',split='whitespace',ngrams=None,output_sequence_length=None,\n",
    "                                  standardize='lower_and_strip_punctuation')"
   ]
  },
  {
   "cell_type": "code",
   "execution_count": 15,
   "id": "5db76669",
   "metadata": {},
   "outputs": [
    {
     "name": "stdout",
     "output_type": "stream",
     "text": [
      "[17. 25. 35. 41. 52.]\n"
     ]
    }
   ],
   "source": [
    "max_vocab=10000\n",
    "tl=[len(i.split()) for i in train_inputs]\n",
    "print(np.percentile(tl,[50,75,90,95,99]))\n",
    "max_length=35"
   ]
  },
  {
   "cell_type": "code",
   "execution_count": 16,
   "id": "f13a66a8",
   "metadata": {},
   "outputs": [],
   "source": [
    "text_vectorizer=TextVectorization(max_tokens=max_vocab,output_sequence_length=max_length)"
   ]
  },
  {
   "cell_type": "code",
   "execution_count": 17,
   "id": "402c8f1d",
   "metadata": {},
   "outputs": [],
   "source": [
    "text_vectorizer.adapt(train_inputs)"
   ]
  },
  {
   "cell_type": "code",
   "execution_count": 18,
   "id": "b418570c",
   "metadata": {},
   "outputs": [],
   "source": [
    "embed=Embedding(input_dim=max_vocab,output_dim=128)"
   ]
  },
  {
   "cell_type": "code",
   "execution_count": 19,
   "id": "251a9e65",
   "metadata": {},
   "outputs": [],
   "source": [
    "import mlflow\n",
    "import mlflow.keras"
   ]
  },
  {
   "cell_type": "code",
   "execution_count": null,
   "id": "e9d76496",
   "metadata": {},
   "outputs": [],
   "source": []
  },
  {
   "cell_type": "code",
   "execution_count": 22,
   "id": "9d1df022",
   "metadata": {},
   "outputs": [],
   "source": [
    "from tensorflow.keras.layers import Dense,GRU,LSTM,Bidirectional,Input,Dropout\n",
    "from tensorflow.keras.losses import SparseCategoricalCrossentropy\n",
    "from tensorflow.keras.optimizers import Adam\n",
    "from tensorflow.keras.models import Model\n",
    "from tensorflow.keras.callbacks import EarlyStopping,ReduceLROnPlateau"
   ]
  },
  {
   "cell_type": "code",
   "execution_count": 23,
   "id": "4836c561",
   "metadata": {},
   "outputs": [
    {
     "name": "stderr",
     "output_type": "stream",
     "text": [
      "2025/10/27 00:52:42 INFO mlflow.tracking.fluent: Experiment with name 'Emotion_Detection' does not exist. Creating a new experiment.\n"
     ]
    },
    {
     "data": {
      "text/plain": [
       "<Experiment: artifact_location='file:///c:/KM/Coding%21%21%21/vs%20code/Scikit%20Learn/Emotions%20Sentiment%20Analysis/mlruns/914653073148891092', creation_time=1761506562096, experiment_id='914653073148891092', last_update_time=1761506562096, lifecycle_stage='active', name='Emotion_Detection', tags={}>"
      ]
     },
     "execution_count": 23,
     "metadata": {},
     "output_type": "execute_result"
    }
   ],
   "source": [
    "mlflow.set_experiment('Emotion_Detection')"
   ]
  },
  {
   "cell_type": "code",
   "execution_count": 27,
   "id": "7a0f56b8",
   "metadata": {},
   "outputs": [],
   "source": [
    "from sklearn.metrics import classification_report\n",
    "def model_evaluate(model):\n",
    "    train_preds=np.argmax(model.predict(train_inputs),axis=1)\n",
    "    val_preds=np.argmax(model.predict(val_inputs),axis=1)\n",
    "    train_report=classification_report(train_target,train_preds,output_dict=True)\n",
    "    test_report=classification_report(val_target,val_preds,output_dict=True)\n",
    "\n",
    "    train_acc = train_report['accuracy']\n",
    "    train_prec = train_report['weighted avg']['precision']\n",
    "    train_rec = train_report['weighted avg']['recall']\n",
    "    train_f1 = train_report['weighted avg']['f1-score']\n",
    "\n",
    "    test_acc = test_report['accuracy']\n",
    "    test_prec = test_report['weighted avg']['precision']\n",
    "    test_rec = test_report['weighted avg']['recall']\n",
    "    test_f1 = test_report['weighted avg']['f1-score']\n",
    "\n",
    "    print(f'TRAIN Metrics: \\n {train_report}')\n",
    "    print(f'TEST Metrics: \\n {test_report}')\n",
    "    mlflow.log_metric('Train_Accuracy',train_acc)\n",
    "    mlflow.log_metric('Train_Precision',train_prec)\n",
    "    mlflow.log_metric('Train_Recall',train_rec)\n",
    "    mlflow.log_metric('Train_F1',train_f1)\n",
    "    mlflow.log_metric('Test_Accuracy',test_acc)\n",
    "    mlflow.log_metric('Test_Precison',test_prec)\n",
    "    mlflow.log_metric('Test_Recall',test_rec)\n",
    "    mlflow.log_metric('Test_F1',test_f1)"
   ]
  },
  {
   "cell_type": "code",
   "execution_count": 26,
   "id": "5b993bd2",
   "metadata": {},
   "outputs": [],
   "source": [
    "from sklearn.utils.class_weight import compute_class_weight\n",
    "class_weights=compute_class_weight(class_weight='balanced',classes=np.unique(train_target),y=train_target)\n",
    "class_weights=dict(enumerate(class_weights))"
   ]
  },
  {
   "cell_type": "code",
   "execution_count": null,
   "id": "19e2e1ef",
   "metadata": {},
   "outputs": [
    {
     "name": "stdout",
     "output_type": "stream",
     "text": [
      "Epoch 1/25\n",
      "\u001b[1m5211/5211\u001b[0m \u001b[32m━━━━━━━━━━━━━━━━━━━━\u001b[0m\u001b[37m\u001b[0m \u001b[1m90s\u001b[0m 17ms/step - accuracy: 0.7562 - loss: 0.5565 - val_accuracy: 0.9263 - val_loss: 0.1715 - learning_rate: 0.0010\n",
      "Epoch 2/25\n",
      "\u001b[1m5211/5211\u001b[0m \u001b[32m━━━━━━━━━━━━━━━━━━━━\u001b[0m\u001b[37m\u001b[0m \u001b[1m86s\u001b[0m 16ms/step - accuracy: 0.9273 - loss: 0.1641 - val_accuracy: 0.9275 - val_loss: 0.1557 - learning_rate: 0.0010\n",
      "Epoch 3/25\n",
      "\u001b[1m5211/5211\u001b[0m \u001b[32m━━━━━━━━━━━━━━━━━━━━\u001b[0m\u001b[37m\u001b[0m \u001b[1m86s\u001b[0m 17ms/step - accuracy: 0.9302 - loss: 0.1507 - val_accuracy: 0.9280 - val_loss: 0.1578 - learning_rate: 0.0010\n",
      "Epoch 4/25\n",
      "\u001b[1m5211/5211\u001b[0m \u001b[32m━━━━━━━━━━━━━━━━━━━━\u001b[0m\u001b[37m\u001b[0m \u001b[1m89s\u001b[0m 17ms/step - accuracy: 0.9315 - loss: 0.1433 - val_accuracy: 0.9279 - val_loss: 0.1609 - learning_rate: 0.0010\n",
      "\u001b[1m10421/10421\u001b[0m \u001b[32m━━━━━━━━━━━━━━━━━━━━\u001b[0m\u001b[37m\u001b[0m \u001b[1m51s\u001b[0m 5ms/step\n",
      "\u001b[1m2606/2606\u001b[0m \u001b[32m━━━━━━━━━━━━━━━━━━━━\u001b[0m\u001b[37m\u001b[0m \u001b[1m13s\u001b[0m 5ms/step\n",
      "TRAIN Metrics: \n",
      " {'0': {'precision': 0.9981513689714392, 'recall': 0.9412165159001125, 'f1-score': 0.9688482120105326, 'support': 96949.0}, '1': {'precision': 0.9964903705152018, 'recall': 0.9032192320983935, 'f1-score': 0.9475651078584941, 'support': 112853.0}, '2': {'precision': 0.7434743718320549, 'recall': 0.9922584379408892, 'f1-score': 0.8500371885459278, 'support': 27643.0}, '3': {'precision': 0.9231636015732965, 'recall': 0.9469402887425307, 'f1-score': 0.934900795573211, 'support': 45854.0}, '4': {'precision': 0.8751582358600436, 'recall': 0.9056064972491485, 'f1-score': 0.8901220579904208, 'support': 38170.0}, '5': {'precision': 0.7268268759195684, 'recall': 0.9898146602103857, 'f1-score': 0.8381760339342524, 'support': 11978.0}, 'accuracy': 0.9310445138207871, 'macro avg': {'precision': 0.8772108041119339, 'recall': 0.9465092720235767, 'f1-score': 0.9049415659854732, 'support': 333447.0}, 'weighted avg': {'precision': 0.9423387611338594, 'recall': 0.9310445138207871, 'f1-score': 0.933421446270357, 'support': 333447.0}}\n",
      "TEST Metrics: \n",
      " {'0': {'precision': 0.9972363572556588, 'recall': 0.937907418103804, 'f1-score': 0.9666624144236085, 'support': 24238.0}, '1': {'precision': 0.9951794952186863, 'recall': 0.9000141773587581, 'f1-score': 0.9452075190768658, 'support': 28214.0}, '2': {'precision': 0.7343447385409941, 'recall': 0.9875560700332803, 'f1-score': 0.8423326133909287, 'support': 6911.0}, '3': {'precision': 0.9135792049962023, 'recall': 0.944342667713513, 'f1-score': 0.9287062457103638, 'support': 11463.0}, '4': {'precision': 0.8714256743054147, 'recall': 0.9006497589603857, 'f1-score': 0.8857967429396001, 'support': 9542.0}, '5': {'precision': 0.7295426452410383, 'recall': 0.9856379425517702, 'f1-score': 0.838471373774684, 'support': 2994.0}, 'accuracy': 0.9275329286725367, 'macro avg': {'precision': 0.8735513525929992, 'recall': 0.9426846724535852, 'f1-score': 0.9011961515526753, 'support': 83362.0}, 'weighted avg': {'precision': 0.9392267278168097, 'recall': 0.9275329286725367, 'f1-score': 0.9300139721212038, 'support': 83362.0}}\n"
     ]
    }
   ],
   "source": [
    "\n",
    "with mlflow.start_run(run_name='GRU'):\n",
    "    inputs=Input(shape=(1,),dtype=tf.string)\n",
    "    x=text_vectorizer(inputs)\n",
    "    x=embed(x)\n",
    "    x=GRU(32,activation='tanh',return_sequences=True,recurrent_dropout=0.2,dropout=0.3)(x)\n",
    "    x=GRU(32,activation='tanh',recurrent_dropout=0.2,dropout=0.3)(x)\n",
    "    x=Dropout(0.3)(x)\n",
    "    outputs=Dense(6,activation='softmax')(x)\n",
    "    model_1=Model(inputs,outputs)\n",
    "    model_1.compile(loss=SparseCategoricalCrossentropy(),optimizer=Adam(),metrics=['accuracy'])\n",
    "    early_stopping=EarlyStopping(monitor='val_loss',patience=2,restore_best_weights=True)\n",
    "    reduce_lr=ReduceLROnPlateau(monitor='val_loss',patience=2,factor=0.5,min_lr=1e-6)\n",
    "    model_1.fit(train_inputs,train_target,epochs=25,validation_data=(val_inputs,val_target),callbacks=[early_stopping,reduce_lr],batch_size=64,class_weight=class_weights)\n",
    "\n",
    "    mlflow.log_params({'epochs':25,'loss':'SparseCategoricalCrossentropy','optimizer':'Adam','learning_rate':'0.001',\n",
    "                       'model_type':'GRU','activation':'tanh','layers':2,'units':'[32,32]','batch_size':64,'recurrent_dropout':0.2,'dropout':0.3,\n",
    "                       'callbacks':'EarlyStopping,ReduceLROnPlateau'})\n",
    "    model_evaluate(model_1)\n",
    "    mlflow.set_tag('model_type','GRU')"
   ]
  },
  {
   "cell_type": "code",
   "execution_count": 30,
   "id": "febecbe8",
   "metadata": {},
   "outputs": [
    {
     "name": "stdout",
     "output_type": "stream",
     "text": [
      "Epoch 1/25\n",
      "\u001b[1m5211/5211\u001b[0m \u001b[32m━━━━━━━━━━━━━━━━━━━━\u001b[0m\u001b[37m\u001b[0m \u001b[1m114s\u001b[0m 21ms/step - accuracy: 0.8634 - loss: 0.3117 - val_accuracy: 0.9272 - val_loss: 0.1570 - learning_rate: 0.0010\n",
      "Epoch 2/25\n",
      "\u001b[1m5211/5211\u001b[0m \u001b[32m━━━━━━━━━━━━━━━━━━━━\u001b[0m\u001b[37m\u001b[0m \u001b[1m108s\u001b[0m 21ms/step - accuracy: 0.9306 - loss: 0.1436 - val_accuracy: 0.9267 - val_loss: 0.1505 - learning_rate: 0.0010\n",
      "Epoch 3/25\n",
      "\u001b[1m5211/5211\u001b[0m \u001b[32m━━━━━━━━━━━━━━━━━━━━\u001b[0m\u001b[37m\u001b[0m \u001b[1m120s\u001b[0m 23ms/step - accuracy: 0.9328 - loss: 0.1345 - val_accuracy: 0.9278 - val_loss: 0.1484 - learning_rate: 0.0010\n",
      "Epoch 4/25\n",
      "\u001b[1m5211/5211\u001b[0m \u001b[32m━━━━━━━━━━━━━━━━━━━━\u001b[0m\u001b[37m\u001b[0m \u001b[1m124s\u001b[0m 24ms/step - accuracy: 0.9345 - loss: 0.1288 - val_accuracy: 0.9274 - val_loss: 0.1522 - learning_rate: 0.0010\n",
      "Epoch 5/25\n",
      "\u001b[1m5211/5211\u001b[0m \u001b[32m━━━━━━━━━━━━━━━━━━━━\u001b[0m\u001b[37m\u001b[0m \u001b[1m125s\u001b[0m 24ms/step - accuracy: 0.9356 - loss: 0.1242 - val_accuracy: 0.9279 - val_loss: 0.1556 - learning_rate: 0.0010\n",
      "\u001b[1m10421/10421\u001b[0m \u001b[32m━━━━━━━━━━━━━━━━━━━━\u001b[0m\u001b[37m\u001b[0m \u001b[1m63s\u001b[0m 6ms/step\n",
      "\u001b[1m2606/2606\u001b[0m \u001b[32m━━━━━━━━━━━━━━━━━━━━\u001b[0m\u001b[37m\u001b[0m \u001b[1m15s\u001b[0m 6ms/step\n",
      "TRAIN Metrics: \n",
      " {'0': {'precision': 0.9966897479867156, 'recall': 0.947229986900329, 'f1-score': 0.9713306573164734, 'support': 96949.0}, '1': {'precision': 0.996990641866967, 'recall': 0.9100511284591459, 'f1-score': 0.9515391564172052, 'support': 112853.0}, '2': {'precision': 0.7696358543417366, 'recall': 0.9939586875520023, 'f1-score': 0.8675307453072952, 'support': 27643.0}, '3': {'precision': 0.8943623319088878, 'recall': 0.9950058882540236, 'f1-score': 0.9420035512243465, 'support': 45854.0}, '4': {'precision': 0.9374964470467853, 'recall': 0.8641079381713388, 'f1-score': 0.8993074490129785, 'support': 38170.0}, '5': {'precision': 0.728004389976221, 'recall': 0.9968275171147103, 'f1-score': 0.8414672821452482, 'support': 11978.0}, 'accuracy': 0.9373573611398514, 'macro avg': {'precision': 0.8871965688545522, 'recall': 0.951196857741925, 'f1-score': 0.9121964735705911, 'support': 333447.0}, 'weighted avg': {'precision': 0.9474695215131841, 'recall': 0.9373573611398514, 'f1-score': 0.9390848560042752, 'support': 333447.0}}\n",
      "TEST Metrics: \n",
      " {'0': {'precision': 0.992336497430985, 'recall': 0.9402590972852546, 'f1-score': 0.9655961359206847, 'support': 24238.0}, '1': {'precision': 0.9924021040327294, 'recall': 0.9027433189196853, 'f1-score': 0.9454518458026319, 'support': 28214.0}, '2': {'precision': 0.7573086364650747, 'recall': 0.9820575893503111, 'f1-score': 0.8551628551628552, 'support': 6911.0}, '3': {'precision': 0.8698033166216738, 'recall': 0.9837738811829364, 'f1-score': 0.923284755198952, 'support': 11463.0}, '4': {'precision': 0.9279880363510871, 'recall': 0.8454202473276042, 'f1-score': 0.8847820126131066, 'support': 9542.0}, '5': {'precision': 0.7185599610800292, 'recall': 0.9866399465597863, 'f1-score': 0.8315270935960591, 'support': 2994.0}, 'accuracy': 0.9278208296346057, 'macro avg': {'precision': 0.8763997586635964, 'recall': 0.9401490134375964, 'f1-score': 0.900967449715715, 'support': 83362.0}, 'weighted avg': {'precision': 0.9388262128942646, 'recall': 0.9278208296346057, 'f1-score': 0.9297392486190105, 'support': 83362.0}}\n"
     ]
    }
   ],
   "source": [
    "\n",
    "with mlflow.start_run(run_name='GRU v2'):\n",
    "    inputs=Input(shape=(1,),dtype=tf.string)\n",
    "    x=text_vectorizer(inputs)\n",
    "    x=embed(x)\n",
    "    x=GRU(64,activation='tanh',return_sequences=True,recurrent_dropout=0.3,dropout=0.3)(x)\n",
    "    x=GRU(64,activation='tanh',recurrent_dropout=0.3,dropout=0.3)(x)\n",
    "    x=Dropout(0.3)(x)\n",
    "    outputs=Dense(6,activation='softmax')(x)\n",
    "    model_2=Model(inputs,outputs)\n",
    "    model_2.compile(loss=SparseCategoricalCrossentropy(),optimizer=Adam(),metrics=['accuracy'])\n",
    "    early_stopping=EarlyStopping(monitor='val_loss',patience=2,restore_best_weights=True)\n",
    "    reduce_lr=ReduceLROnPlateau(monitor='val_loss',patience=2,factor=0.5,min_lr=1e-6)\n",
    "    model_2.fit(train_inputs,train_target,epochs=25,validation_data=(val_inputs,val_target),callbacks=[early_stopping,reduce_lr],batch_size=64,class_weight=class_weights)\n",
    "\n",
    "    mlflow.log_params({'epochs':25,'loss':'SparseCategoricalCrossentropy','optimizer':'Adam','learning_rate':'0.001',\n",
    "                       'model_type':'GRU','activation':'tanh','layers':2,'units':'[64,64]','batch_size':64,'recurrent_dropout':0.3,'dropout':0.3,\n",
    "                       'callbacks':'EarlyStopping,ReduceLROnPlateau'})\n",
    "    model_evaluate(model_2)\n",
    "    mlflow.set_tag('model_type','GRU')"
   ]
  },
  {
   "cell_type": "code",
   "execution_count": 31,
   "id": "3295122a",
   "metadata": {},
   "outputs": [
    {
     "name": "stdout",
     "output_type": "stream",
     "text": [
      "Epoch 1/25\n",
      "\u001b[1m5211/5211\u001b[0m \u001b[32m━━━━━━━━━━━━━━━━━━━━\u001b[0m\u001b[37m\u001b[0m \u001b[1m110s\u001b[0m 20ms/step - accuracy: 0.8567 - loss: 0.3533 - val_accuracy: 0.9249 - val_loss: 0.1608 - learning_rate: 0.0010\n",
      "Epoch 2/25\n",
      "\u001b[1m5211/5211\u001b[0m \u001b[32m━━━━━━━━━━━━━━━━━━━━\u001b[0m\u001b[37m\u001b[0m \u001b[1m103s\u001b[0m 20ms/step - accuracy: 0.9303 - loss: 0.1463 - val_accuracy: 0.9270 - val_loss: 0.1546 - learning_rate: 0.0010\n",
      "Epoch 3/25\n",
      "\u001b[1m5211/5211\u001b[0m \u001b[32m━━━━━━━━━━━━━━━━━━━━\u001b[0m\u001b[37m\u001b[0m \u001b[1m104s\u001b[0m 20ms/step - accuracy: 0.9325 - loss: 0.1333 - val_accuracy: 0.9270 - val_loss: 0.1481 - learning_rate: 0.0010\n",
      "Epoch 4/25\n",
      "\u001b[1m5211/5211\u001b[0m \u001b[32m━━━━━━━━━━━━━━━━━━━━\u001b[0m\u001b[37m\u001b[0m \u001b[1m102s\u001b[0m 20ms/step - accuracy: 0.9345 - loss: 0.1264 - val_accuracy: 0.9272 - val_loss: 0.1444 - learning_rate: 0.0010\n",
      "Epoch 5/25\n",
      "\u001b[1m5211/5211\u001b[0m \u001b[32m━━━━━━━━━━━━━━━━━━━━\u001b[0m\u001b[37m\u001b[0m \u001b[1m104s\u001b[0m 20ms/step - accuracy: 0.9354 - loss: 0.1222 - val_accuracy: 0.9281 - val_loss: 0.1544 - learning_rate: 0.0010\n",
      "Epoch 6/25\n",
      "\u001b[1m5211/5211\u001b[0m \u001b[32m━━━━━━━━━━━━━━━━━━━━\u001b[0m\u001b[37m\u001b[0m \u001b[1m105s\u001b[0m 20ms/step - accuracy: 0.9364 - loss: 0.1185 - val_accuracy: 0.9279 - val_loss: 0.1538 - learning_rate: 0.0010\n",
      "\u001b[1m10421/10421\u001b[0m \u001b[32m━━━━━━━━━━━━━━━━━━━━\u001b[0m\u001b[37m\u001b[0m \u001b[1m49s\u001b[0m 5ms/step\n",
      "\u001b[1m2606/2606\u001b[0m \u001b[32m━━━━━━━━━━━━━━━━━━━━\u001b[0m\u001b[37m\u001b[0m \u001b[1m12s\u001b[0m 4ms/step\n",
      "TRAIN Metrics: \n",
      " {'0': {'precision': 0.995686579749627, 'recall': 0.950014956317239, 'f1-score': 0.9723147410148271, 'support': 96949.0}, '1': {'precision': 0.9983961585567371, 'recall': 0.9101486003916599, 'f1-score': 0.9522321780365363, 'support': 112853.0}, '2': {'precision': 0.759080269860939, 'recall': 0.9972144846796658, 'f1-score': 0.8620031895931706, 'support': 27643.0}, '3': {'precision': 0.910841540555689, 'recall': 0.992323461421032, 'f1-score': 0.9498382214800125, 'support': 45854.0}, '4': {'precision': 0.935897797456217, 'recall': 0.869426250982447, 'f1-score': 0.9014382919773459, 'support': 38170.0}, '5': {'precision': 0.7313460243618779, 'recall': 0.9974954082484555, 'f1-score': 0.8439343104361646, 'support': 11978.0}, 'accuracy': 0.9387338917429157, 'macro avg': {'precision': 0.8885413950901812, 'recall': 0.9527705270067498, 'f1-score': 0.9136268220896762, 'support': 333447.0}, 'weighted avg': {'precision': 0.9489816534887612, 'recall': 0.9387338917429157, 'f1-score': 0.9405572116931684, 'support': 333447.0}}\n",
      "TEST Metrics: \n",
      " {'0': {'precision': 0.9896013864818024, 'recall': 0.9423219737602112, 'f1-score': 0.9653831522887696, 'support': 24238.0}, '1': {'precision': 0.9922365700464245, 'recall': 0.9014673566314596, 'f1-score': 0.9446765836536855, 'support': 28214.0}, '2': {'precision': 0.7416575790621592, 'recall': 0.984083345391405, 'f1-score': 0.8458429202164045, 'support': 6911.0}, '3': {'precision': 0.8873094027954257, 'recall': 0.9747012125970513, 'f1-score': 0.928954479318229, 'support': 11463.0}, '4': {'precision': 0.9188606445755788, 'recall': 0.8485642422972123, 'f1-score': 0.8823144818568159, 'support': 9542.0}, '5': {'precision': 0.7234355828220859, 'recall': 0.9846359385437542, 'f1-score': 0.8340642240769557, 'support': 2994.0}, 'accuracy': 0.9271970442167894, 'macro avg': {'precision': 0.8755168609639128, 'recall': 0.9392956782035157, 'f1-score': 0.9002059735684768, 'support': 83362.0}, 'weighted avg': {'precision': 0.938214997378755, 'recall': 0.9271970442167894, 'f1-score': 0.9292305926823355, 'support': 83362.0}}\n"
     ]
    }
   ],
   "source": [
    "\n",
    "with mlflow.start_run(run_name='LSTM v1'):\n",
    "    inputs=Input(shape=(1,),dtype=tf.string)\n",
    "    x=text_vectorizer(inputs)\n",
    "    x=embed(x)\n",
    "    x=LSTM(32,activation='tanh',return_sequences=True,recurrent_dropout=0.2,dropout=0.3)(x)\n",
    "    x=LSTM(32,activation='tanh',recurrent_dropout=0.2,dropout=0.3)(x)\n",
    "    x=Dropout(0.3)(x)\n",
    "    outputs=Dense(6,activation='softmax')(x)\n",
    "    model_3=Model(inputs,outputs)\n",
    "    model_3.compile(loss=SparseCategoricalCrossentropy(),optimizer=Adam(),metrics=['accuracy'])\n",
    "    early_stopping=EarlyStopping(monitor='val_loss',patience=2,restore_best_weights=True)\n",
    "    reduce_lr=ReduceLROnPlateau(monitor='val_loss',patience=2,factor=0.5,min_lr=1e-6)\n",
    "    model_3.fit(train_inputs,train_target,epochs=25,validation_data=(val_inputs,val_target),callbacks=[early_stopping,reduce_lr],batch_size=64,class_weight=class_weights)\n",
    "\n",
    "    mlflow.log_params({'epochs':25,'loss':'SparseCategoricalCrossentropy','optimizer':'Adam','learning_rate':'0.001',\n",
    "                       'model_type':'LSTM','activation':'tanh','layers':2,'units':'[32,32]','batch_size':64,'recurrent_dropout':0.2,'dropout':0.3,\n",
    "                       'callbacks':'EarlyStopping,ReduceLROnPlateau'})\n",
    "    model_evaluate(model_3)\n",
    "    mlflow.set_tag('model_type','LSTM')"
   ]
  },
  {
   "cell_type": "code",
   "execution_count": 33,
   "id": "dfe7a05f",
   "metadata": {},
   "outputs": [],
   "source": [
    "model_3.save('Models/lstm.keras')"
   ]
  }
 ],
 "metadata": {
  "kernelspec": {
   "display_name": "Python 3",
   "language": "python",
   "name": "python3"
  },
  "language_info": {
   "codemirror_mode": {
    "name": "ipython",
    "version": 3
   },
   "file_extension": ".py",
   "mimetype": "text/x-python",
   "name": "python",
   "nbconvert_exporter": "python",
   "pygments_lexer": "ipython3",
   "version": "3.11.8"
  }
 },
 "nbformat": 4,
 "nbformat_minor": 5
}
