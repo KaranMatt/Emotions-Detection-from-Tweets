{
 "cells": [
  {
   "cell_type": "code",
   "execution_count": 1,
   "id": "9a0017ba",
   "metadata": {},
   "outputs": [
    {
     "data": {
      "text/html": [
       "<div>\n",
       "<style scoped>\n",
       "    .dataframe tbody tr th:only-of-type {\n",
       "        vertical-align: middle;\n",
       "    }\n",
       "\n",
       "    .dataframe tbody tr th {\n",
       "        vertical-align: top;\n",
       "    }\n",
       "\n",
       "    .dataframe thead th {\n",
       "        text-align: right;\n",
       "    }\n",
       "</style>\n",
       "<table border=\"1\" class=\"dataframe\">\n",
       "  <thead>\n",
       "    <tr style=\"text-align: right;\">\n",
       "      <th></th>\n",
       "      <th>Unnamed: 0</th>\n",
       "      <th>text</th>\n",
       "      <th>label</th>\n",
       "    </tr>\n",
       "  </thead>\n",
       "  <tbody>\n",
       "    <tr>\n",
       "      <th>0</th>\n",
       "      <td>0</td>\n",
       "      <td>i just feel really helpless and heavy hearted</td>\n",
       "      <td>4</td>\n",
       "    </tr>\n",
       "    <tr>\n",
       "      <th>1</th>\n",
       "      <td>1</td>\n",
       "      <td>ive enjoyed being able to slouch about relax a...</td>\n",
       "      <td>0</td>\n",
       "    </tr>\n",
       "    <tr>\n",
       "      <th>2</th>\n",
       "      <td>2</td>\n",
       "      <td>i gave up my internship with the dmrg and am f...</td>\n",
       "      <td>4</td>\n",
       "    </tr>\n",
       "    <tr>\n",
       "      <th>3</th>\n",
       "      <td>3</td>\n",
       "      <td>i dont know i feel so lost</td>\n",
       "      <td>0</td>\n",
       "    </tr>\n",
       "    <tr>\n",
       "      <th>4</th>\n",
       "      <td>4</td>\n",
       "      <td>i am a kindergarten teacher and i am thoroughl...</td>\n",
       "      <td>4</td>\n",
       "    </tr>\n",
       "    <tr>\n",
       "      <th>...</th>\n",
       "      <td>...</td>\n",
       "      <td>...</td>\n",
       "      <td>...</td>\n",
       "    </tr>\n",
       "    <tr>\n",
       "      <th>416804</th>\n",
       "      <td>416804</td>\n",
       "      <td>i feel like telling these horny devils to find...</td>\n",
       "      <td>2</td>\n",
       "    </tr>\n",
       "    <tr>\n",
       "      <th>416805</th>\n",
       "      <td>416805</td>\n",
       "      <td>i began to realize that when i was feeling agi...</td>\n",
       "      <td>3</td>\n",
       "    </tr>\n",
       "    <tr>\n",
       "      <th>416806</th>\n",
       "      <td>416806</td>\n",
       "      <td>i feel very curious be why previous early dawn...</td>\n",
       "      <td>5</td>\n",
       "    </tr>\n",
       "    <tr>\n",
       "      <th>416807</th>\n",
       "      <td>416807</td>\n",
       "      <td>i feel that becuase of the tyranical nature of...</td>\n",
       "      <td>3</td>\n",
       "    </tr>\n",
       "    <tr>\n",
       "      <th>416808</th>\n",
       "      <td>416808</td>\n",
       "      <td>i think that after i had spent some time inves...</td>\n",
       "      <td>5</td>\n",
       "    </tr>\n",
       "  </tbody>\n",
       "</table>\n",
       "<p>416809 rows × 3 columns</p>\n",
       "</div>"
      ],
      "text/plain": [
       "        Unnamed: 0                                               text  label\n",
       "0                0      i just feel really helpless and heavy hearted      4\n",
       "1                1  ive enjoyed being able to slouch about relax a...      0\n",
       "2                2  i gave up my internship with the dmrg and am f...      4\n",
       "3                3                         i dont know i feel so lost      0\n",
       "4                4  i am a kindergarten teacher and i am thoroughl...      4\n",
       "...            ...                                                ...    ...\n",
       "416804      416804  i feel like telling these horny devils to find...      2\n",
       "416805      416805  i began to realize that when i was feeling agi...      3\n",
       "416806      416806  i feel very curious be why previous early dawn...      5\n",
       "416807      416807  i feel that becuase of the tyranical nature of...      3\n",
       "416808      416808  i think that after i had spent some time inves...      5\n",
       "\n",
       "[416809 rows x 3 columns]"
      ]
     },
     "execution_count": 1,
     "metadata": {},
     "output_type": "execute_result"
    }
   ],
   "source": [
    "import numpy as np\n",
    "import pandas as pd\n",
    "import tensorflow as tf\n",
    "\n",
    "emo_df=pd.read_csv(\"C:/KM/Datasets/Emotions Data/text.csv\")\n",
    "emo_df"
   ]
  },
  {
   "cell_type": "code",
   "execution_count": 2,
   "id": "d09a734e",
   "metadata": {},
   "outputs": [
    {
     "name": "stdout",
     "output_type": "stream",
     "text": [
      "<class 'pandas.core.frame.DataFrame'>\n",
      "RangeIndex: 416809 entries, 0 to 416808\n",
      "Data columns (total 3 columns):\n",
      " #   Column      Non-Null Count   Dtype \n",
      "---  ------      --------------   ----- \n",
      " 0   Unnamed: 0  416809 non-null  int64 \n",
      " 1   text        416809 non-null  object\n",
      " 2   label       416809 non-null  int64 \n",
      "dtypes: int64(2), object(1)\n",
      "memory usage: 9.5+ MB\n"
     ]
    }
   ],
   "source": [
    "emo_df.info()"
   ]
  },
  {
   "cell_type": "code",
   "execution_count": 3,
   "id": "658ab0db",
   "metadata": {},
   "outputs": [
    {
     "data": {
      "text/html": [
       "<div>\n",
       "<style scoped>\n",
       "    .dataframe tbody tr th:only-of-type {\n",
       "        vertical-align: middle;\n",
       "    }\n",
       "\n",
       "    .dataframe tbody tr th {\n",
       "        vertical-align: top;\n",
       "    }\n",
       "\n",
       "    .dataframe thead th {\n",
       "        text-align: right;\n",
       "    }\n",
       "</style>\n",
       "<table border=\"1\" class=\"dataframe\">\n",
       "  <thead>\n",
       "    <tr style=\"text-align: right;\">\n",
       "      <th></th>\n",
       "      <th>text</th>\n",
       "      <th>label</th>\n",
       "    </tr>\n",
       "  </thead>\n",
       "  <tbody>\n",
       "    <tr>\n",
       "      <th>0</th>\n",
       "      <td>i just feel really helpless and heavy hearted</td>\n",
       "      <td>4</td>\n",
       "    </tr>\n",
       "    <tr>\n",
       "      <th>1</th>\n",
       "      <td>ive enjoyed being able to slouch about relax a...</td>\n",
       "      <td>0</td>\n",
       "    </tr>\n",
       "    <tr>\n",
       "      <th>2</th>\n",
       "      <td>i gave up my internship with the dmrg and am f...</td>\n",
       "      <td>4</td>\n",
       "    </tr>\n",
       "    <tr>\n",
       "      <th>3</th>\n",
       "      <td>i dont know i feel so lost</td>\n",
       "      <td>0</td>\n",
       "    </tr>\n",
       "    <tr>\n",
       "      <th>4</th>\n",
       "      <td>i am a kindergarten teacher and i am thoroughl...</td>\n",
       "      <td>4</td>\n",
       "    </tr>\n",
       "    <tr>\n",
       "      <th>...</th>\n",
       "      <td>...</td>\n",
       "      <td>...</td>\n",
       "    </tr>\n",
       "    <tr>\n",
       "      <th>416804</th>\n",
       "      <td>i feel like telling these horny devils to find...</td>\n",
       "      <td>2</td>\n",
       "    </tr>\n",
       "    <tr>\n",
       "      <th>416805</th>\n",
       "      <td>i began to realize that when i was feeling agi...</td>\n",
       "      <td>3</td>\n",
       "    </tr>\n",
       "    <tr>\n",
       "      <th>416806</th>\n",
       "      <td>i feel very curious be why previous early dawn...</td>\n",
       "      <td>5</td>\n",
       "    </tr>\n",
       "    <tr>\n",
       "      <th>416807</th>\n",
       "      <td>i feel that becuase of the tyranical nature of...</td>\n",
       "      <td>3</td>\n",
       "    </tr>\n",
       "    <tr>\n",
       "      <th>416808</th>\n",
       "      <td>i think that after i had spent some time inves...</td>\n",
       "      <td>5</td>\n",
       "    </tr>\n",
       "  </tbody>\n",
       "</table>\n",
       "<p>416809 rows × 2 columns</p>\n",
       "</div>"
      ],
      "text/plain": [
       "                                                     text  label\n",
       "0           i just feel really helpless and heavy hearted      4\n",
       "1       ive enjoyed being able to slouch about relax a...      0\n",
       "2       i gave up my internship with the dmrg and am f...      4\n",
       "3                              i dont know i feel so lost      0\n",
       "4       i am a kindergarten teacher and i am thoroughl...      4\n",
       "...                                                   ...    ...\n",
       "416804  i feel like telling these horny devils to find...      2\n",
       "416805  i began to realize that when i was feeling agi...      3\n",
       "416806  i feel very curious be why previous early dawn...      5\n",
       "416807  i feel that becuase of the tyranical nature of...      3\n",
       "416808  i think that after i had spent some time inves...      5\n",
       "\n",
       "[416809 rows x 2 columns]"
      ]
     },
     "execution_count": 3,
     "metadata": {},
     "output_type": "execute_result"
    }
   ],
   "source": [
    "emo_df.drop('Unnamed: 0',inplace=True,axis=1)\n",
    "emo_df"
   ]
  },
  {
   "cell_type": "code",
   "execution_count": 4,
   "id": "cb7dd9e8",
   "metadata": {},
   "outputs": [
    {
     "data": {
      "text/plain": [
       "array([4, 0, 2, 1, 5, 3])"
      ]
     },
     "execution_count": 4,
     "metadata": {},
     "output_type": "execute_result"
    }
   ],
   "source": [
    "emo_df['label'].unique()"
   ]
  },
  {
   "cell_type": "code",
   "execution_count": 5,
   "id": "fecc640f",
   "metadata": {},
   "outputs": [],
   "source": [
    "from sklearn.model_selection import train_test_split\n",
    "train_set,val_set=train_test_split(emo_df,test_size=0.25,random_state=42)"
   ]
  },
  {
   "cell_type": "code",
   "execution_count": 6,
   "id": "de34c3c8",
   "metadata": {},
   "outputs": [],
   "source": [
    "train_inputs=train_set['text'].to_numpy()\n",
    "val_inputs=val_set['text'].to_numpy()\n",
    "train_target=train_set['label'].to_numpy()\n",
    "val_target=val_set['label'].to_numpy()"
   ]
  },
  {
   "cell_type": "code",
   "execution_count": 7,
   "id": "c724d27d",
   "metadata": {},
   "outputs": [],
   "source": [
    "from tensorflow.keras.layers import TextVectorization,Embedding"
   ]
  },
  {
   "cell_type": "code",
   "execution_count": 8,
   "id": "80eaa661",
   "metadata": {},
   "outputs": [],
   "source": [
    "text_vectorizer=TextVectorization(max_tokens=None,split='whitespace',standardize='lower_and_strip_punctuation',output_mode='int',output_sequence_length=None,ngrams=None)"
   ]
  },
  {
   "cell_type": "code",
   "execution_count": 9,
   "id": "39d86fc2",
   "metadata": {},
   "outputs": [
    {
     "data": {
      "text/plain": [
       "19"
      ]
     },
     "execution_count": 9,
     "metadata": {},
     "output_type": "execute_result"
    }
   ],
   "source": [
    "round(sum([len(i.split()) for i in train_inputs])/len(train_inputs)) # detrmining output length "
   ]
  },
  {
   "cell_type": "code",
   "execution_count": 10,
   "id": "e63aaad8",
   "metadata": {},
   "outputs": [],
   "source": [
    "max_vocab=10000\n",
    "max_length=20"
   ]
  },
  {
   "cell_type": "code",
   "execution_count": 11,
   "id": "0039b9fd",
   "metadata": {},
   "outputs": [],
   "source": [
    "text_vectorizer=TextVectorization(max_tokens=max_vocab,output_sequence_length=max_length)"
   ]
  },
  {
   "cell_type": "code",
   "execution_count": 12,
   "id": "a8ef07b1",
   "metadata": {},
   "outputs": [],
   "source": [
    "text_vectorizer.adapt(train_inputs)"
   ]
  },
  {
   "cell_type": "code",
   "execution_count": 13,
   "id": "90d775de",
   "metadata": {},
   "outputs": [],
   "source": [
    "embed=Embedding(input_dim=max_vocab,output_dim=128)"
   ]
  },
  {
   "cell_type": "code",
   "execution_count": 14,
   "id": "5901462d",
   "metadata": {},
   "outputs": [],
   "source": [
    "from tensorflow.keras.layers import Input,LSTM,GRU,Bidirectional,GlobalAveragePooling1D,Dense\n",
    "from tensorflow.keras.optimizers import Adam\n",
    "from tensorflow.keras.losses import CategoricalCrossentropy,SparseCategoricalCrossentropy\n",
    "from tensorflow.keras.models import Model"
   ]
  },
  {
   "cell_type": "code",
   "execution_count": 15,
   "id": "327e6e28",
   "metadata": {},
   "outputs": [
    {
     "name": "stdout",
     "output_type": "stream",
     "text": [
      "Epoch 1/5\n",
      "\u001b[1m9769/9769\u001b[0m \u001b[32m━━━━━━━━━━━━━━━━━━━━\u001b[0m\u001b[37m\u001b[0m \u001b[1m70s\u001b[0m 7ms/step - accuracy: 0.7749 - loss: 0.5394 - val_accuracy: 0.8717 - val_loss: 0.2697\n",
      "Epoch 2/5\n",
      "\u001b[1m9769/9769\u001b[0m \u001b[32m━━━━━━━━━━━━━━━━━━━━\u001b[0m\u001b[37m\u001b[0m \u001b[1m77s\u001b[0m 8ms/step - accuracy: 0.8793 - loss: 0.2547 - val_accuracy: 0.8721 - val_loss: 0.2696\n",
      "Epoch 3/5\n",
      "\u001b[1m9769/9769\u001b[0m \u001b[32m━━━━━━━━━━━━━━━━━━━━\u001b[0m\u001b[37m\u001b[0m \u001b[1m68s\u001b[0m 7ms/step - accuracy: 0.8896 - loss: 0.2318 - val_accuracy: 0.8683 - val_loss: 0.2847\n",
      "Epoch 4/5\n",
      "\u001b[1m9769/9769\u001b[0m \u001b[32m━━━━━━━━━━━━━━━━━━━━\u001b[0m\u001b[37m\u001b[0m \u001b[1m62s\u001b[0m 6ms/step - accuracy: 0.9006 - loss: 0.2058 - val_accuracy: 0.8623 - val_loss: 0.3036\n",
      "Epoch 5/5\n",
      "\u001b[1m9769/9769\u001b[0m \u001b[32m━━━━━━━━━━━━━━━━━━━━\u001b[0m\u001b[37m\u001b[0m \u001b[1m66s\u001b[0m 7ms/step - accuracy: 0.9106 - loss: 0.1822 - val_accuracy: 0.8602 - val_loss: 0.3224\n"
     ]
    },
    {
     "data": {
      "text/plain": [
       "<keras.src.callbacks.history.History at 0x1d0668e9010>"
      ]
     },
     "execution_count": 15,
     "metadata": {},
     "output_type": "execute_result"
    }
   ],
   "source": [
    "inputs=Input(shape=(1,),dtype=tf.string)\n",
    "x=text_vectorizer(inputs)\n",
    "x=embed(x)\n",
    "x=GRU(48,activation='tanh')(x)\n",
    "outputs=Dense(6,activation='softmax')(x)\n",
    "model_1=Model(inputs,outputs)\n",
    "model_1.compile(loss=CategoricalCrossentropy(),optimizer=Adam(),metrics=['accuracy'])\n",
    "model_1.fit(train_inputs,tf.one_hot(train_target,depth=6),epochs=5,validation_data=(val_inputs,tf.one_hot(val_target,depth=6)))"
   ]
  },
  {
   "cell_type": "code",
   "execution_count": 16,
   "id": "7bd060d9",
   "metadata": {},
   "outputs": [
    {
     "name": "stdout",
     "output_type": "stream",
     "text": [
      "Epoch 1/5\n",
      "\u001b[1m9769/9769\u001b[0m \u001b[32m━━━━━━━━━━━━━━━━━━━━\u001b[0m\u001b[37m\u001b[0m \u001b[1m66s\u001b[0m 7ms/step - accuracy: 0.8543 - loss: 0.3572 - precision: 0.9174 - recall: 0.8016 - val_accuracy: 0.8660 - val_loss: 0.2980 - val_precision: 0.9044 - val_recall: 0.8446\n",
      "Epoch 2/5\n",
      "\u001b[1m9769/9769\u001b[0m \u001b[32m━━━━━━━━━━━━━━━━━━━━\u001b[0m\u001b[37m\u001b[0m \u001b[1m63s\u001b[0m 6ms/step - accuracy: 0.9042 - loss: 0.2001 - precision: 0.9306 - recall: 0.8842 - val_accuracy: 0.8635 - val_loss: 0.3108 - val_precision: 0.8997 - val_recall: 0.8449\n",
      "Epoch 3/5\n",
      "\u001b[1m9769/9769\u001b[0m \u001b[32m━━━━━━━━━━━━━━━━━━━━\u001b[0m\u001b[37m\u001b[0m \u001b[1m63s\u001b[0m 6ms/step - accuracy: 0.9135 - loss: 0.1768 - precision: 0.9323 - recall: 0.8983 - val_accuracy: 0.8604 - val_loss: 0.3326 - val_precision: 0.8890 - val_recall: 0.8467\n",
      "Epoch 4/5\n",
      "\u001b[1m9769/9769\u001b[0m \u001b[32m━━━━━━━━━━━━━━━━━━━━\u001b[0m\u001b[37m\u001b[0m \u001b[1m115s\u001b[0m 12ms/step - accuracy: 0.9199 - loss: 0.1593 - precision: 0.9342 - recall: 0.9082 - val_accuracy: 0.8586 - val_loss: 0.3653 - val_precision: 0.8828 - val_recall: 0.8479\n",
      "Epoch 5/5\n",
      "\u001b[1m9769/9769\u001b[0m \u001b[32m━━━━━━━━━━━━━━━━━━━━\u001b[0m\u001b[37m\u001b[0m \u001b[1m64s\u001b[0m 7ms/step - accuracy: 0.9257 - loss: 0.1449 - precision: 0.9372 - recall: 0.9164 - val_accuracy: 0.8539 - val_loss: 0.3927 - val_precision: 0.8749 - val_recall: 0.8453\n"
     ]
    },
    {
     "data": {
      "text/plain": [
       "<keras.src.callbacks.history.History at 0x1d0668a3c50>"
      ]
     },
     "execution_count": 16,
     "metadata": {},
     "output_type": "execute_result"
    }
   ],
   "source": [
    "inputs=Input(shape=(1,),dtype=tf.string)\n",
    "x=text_vectorizer(inputs)\n",
    "x=embed(x)\n",
    "x=LSTM(48,activation='tanh')(x)\n",
    "outputs=Dense(6,activation='softmax')(x)\n",
    "model_2=Model(inputs,outputs)\n",
    "model_2.compile(loss=CategoricalCrossentropy(),optimizer=Adam(),metrics=['accuracy','precision','recall'])\n",
    "model_2.fit(train_inputs,tf.one_hot(train_target,depth=6),epochs=5,validation_data=(val_inputs,tf.one_hot(val_target,depth=6)))"
   ]
  },
  {
   "cell_type": "code",
   "execution_count": 17,
   "id": "36797d50",
   "metadata": {},
   "outputs": [
    {
     "name": "stdout",
     "output_type": "stream",
     "text": [
      "Epoch 1/5\n",
      "\u001b[1m9769/9769\u001b[0m \u001b[32m━━━━━━━━━━━━━━━━━━━━\u001b[0m\u001b[37m\u001b[0m \u001b[1m94s\u001b[0m 9ms/step - accuracy: 0.8636 - loss: 0.3312 - precision: 0.9154 - recall: 0.8238 - val_accuracy: 0.8602 - val_loss: 0.3350 - val_precision: 0.8901 - val_recall: 0.8463\n",
      "Epoch 2/5\n",
      "\u001b[1m9769/9769\u001b[0m \u001b[32m━━━━━━━━━━━━━━━━━━━━\u001b[0m\u001b[37m\u001b[0m \u001b[1m82s\u001b[0m 8ms/step - accuracy: 0.9159 - loss: 0.1724 - precision: 0.9321 - recall: 0.9027 - val_accuracy: 0.8554 - val_loss: 0.3545 - val_precision: 0.8795 - val_recall: 0.8440\n",
      "Epoch 3/5\n",
      "\u001b[1m9769/9769\u001b[0m \u001b[32m━━━━━━━━━━━━━━━━━━━━\u001b[0m\u001b[37m\u001b[0m \u001b[1m89s\u001b[0m 9ms/step - accuracy: 0.9240 - loss: 0.1521 - precision: 0.9356 - recall: 0.9140 - val_accuracy: 0.8562 - val_loss: 0.3888 - val_precision: 0.8751 - val_recall: 0.8481\n",
      "Epoch 4/5\n",
      "\u001b[1m9769/9769\u001b[0m \u001b[32m━━━━━━━━━━━━━━━━━━━━\u001b[0m\u001b[37m\u001b[0m \u001b[1m82s\u001b[0m 8ms/step - accuracy: 0.9302 - loss: 0.1351 - precision: 0.9389 - recall: 0.9226 - val_accuracy: 0.8526 - val_loss: 0.4234 - val_precision: 0.8700 - val_recall: 0.8457\n",
      "Epoch 5/5\n",
      "\u001b[1m9769/9769\u001b[0m \u001b[32m━━━━━━━━━━━━━━━━━━━━\u001b[0m\u001b[37m\u001b[0m \u001b[1m87s\u001b[0m 9ms/step - accuracy: 0.9344 - loss: 0.1244 - precision: 0.9415 - recall: 0.9286 - val_accuracy: 0.8504 - val_loss: 0.4617 - val_precision: 0.8651 - val_recall: 0.8445\n"
     ]
    },
    {
     "data": {
      "text/plain": [
       "<keras.src.callbacks.history.History at 0x1d07ebcfbd0>"
      ]
     },
     "execution_count": 17,
     "metadata": {},
     "output_type": "execute_result"
    }
   ],
   "source": [
    "inputs=Input(shape=(1,),dtype=tf.string)\n",
    "x=text_vectorizer(inputs)\n",
    "x=embed(x)\n",
    "x=Bidirectional(GRU(32,activation='tanh'))(x)\n",
    "outputs=Dense(6,activation='softmax')(x)\n",
    "model_3=Model(inputs,outputs)\n",
    "model_3.compile(loss=CategoricalCrossentropy(),optimizer=Adam(),metrics=['accuracy','precision','recall'])\n",
    "model_3.fit(train_inputs,tf.one_hot(train_target,depth=6),epochs=5,validation_data=(val_inputs,tf.one_hot(val_target,depth=6)))"
   ]
  },
  {
   "cell_type": "code",
   "execution_count": 18,
   "id": "e802790b",
   "metadata": {},
   "outputs": [
    {
     "name": "stdout",
     "output_type": "stream",
     "text": [
      "Epoch 1/5\n",
      "\u001b[1m9769/9769\u001b[0m \u001b[32m━━━━━━━━━━━━━━━━━━━━\u001b[0m\u001b[37m\u001b[0m \u001b[1m80s\u001b[0m 8ms/step - accuracy: 0.8697 - loss: 0.3154 - precision: 0.9171 - recall: 0.8310 - val_accuracy: 0.8542 - val_loss: 0.3566 - val_precision: 0.8833 - val_recall: 0.8412\n",
      "Epoch 2/5\n",
      "\u001b[1m9769/9769\u001b[0m \u001b[32m━━━━━━━━━━━━━━━━━━━━\u001b[0m\u001b[37m\u001b[0m \u001b[1m80s\u001b[0m 8ms/step - accuracy: 0.9186 - loss: 0.1649 - precision: 0.9343 - recall: 0.9061 - val_accuracy: 0.8540 - val_loss: 0.3767 - val_precision: 0.8746 - val_recall: 0.8444\n",
      "Epoch 3/5\n",
      "\u001b[1m9769/9769\u001b[0m \u001b[32m━━━━━━━━━━━━━━━━━━━━\u001b[0m\u001b[37m\u001b[0m \u001b[1m82s\u001b[0m 8ms/step - accuracy: 0.9272 - loss: 0.1425 - precision: 0.9372 - recall: 0.9184 - val_accuracy: 0.8495 - val_loss: 0.4240 - val_precision: 0.8680 - val_recall: 0.8420\n",
      "Epoch 4/5\n",
      "\u001b[1m9769/9769\u001b[0m \u001b[32m━━━━━━━━━━━━━━━━━━━━\u001b[0m\u001b[37m\u001b[0m \u001b[1m84s\u001b[0m 9ms/step - accuracy: 0.9337 - loss: 0.1273 - precision: 0.9412 - recall: 0.9271 - val_accuracy: 0.8499 - val_loss: 0.4539 - val_precision: 0.8647 - val_recall: 0.8441\n",
      "Epoch 5/5\n",
      "\u001b[1m9769/9769\u001b[0m \u001b[32m━━━━━━━━━━━━━━━━━━━━\u001b[0m\u001b[37m\u001b[0m \u001b[1m80s\u001b[0m 8ms/step - accuracy: 0.9367 - loss: 0.1178 - precision: 0.9424 - recall: 0.9319 - val_accuracy: 0.8453 - val_loss: 0.4878 - val_precision: 0.8580 - val_recall: 0.8405\n"
     ]
    },
    {
     "data": {
      "text/plain": [
       "<keras.src.callbacks.history.History at 0x1d06e7eb9d0>"
      ]
     },
     "execution_count": 18,
     "metadata": {},
     "output_type": "execute_result"
    }
   ],
   "source": [
    "inputs=Input(shape=(1,),dtype=tf.string)\n",
    "x=text_vectorizer(inputs)\n",
    "x=embed(x)\n",
    "x=Bidirectional(LSTM(32,activation='tanh'))(x)\n",
    "outputs=Dense(6,activation='softmax')(x)\n",
    "model_4=Model(inputs,outputs)\n",
    "model_4.compile(loss=CategoricalCrossentropy(),optimizer=Adam(),metrics=['accuracy','precision','recall'])\n",
    "model_4.fit(train_inputs,tf.one_hot(train_target,depth=6),epochs=5,validation_data=(val_inputs,tf.one_hot(val_target,depth=6)))"
   ]
  },
  {
   "cell_type": "code",
   "execution_count": 19,
   "id": "512c0f95",
   "metadata": {},
   "outputs": [
    {
     "name": "stdout",
     "output_type": "stream",
     "text": [
      "\u001b[1m3257/3257\u001b[0m \u001b[32m━━━━━━━━━━━━━━━━━━━━\u001b[0m\u001b[37m\u001b[0m \u001b[1m7s\u001b[0m 2ms/step - accuracy: 0.8530 - loss: 0.4232\n"
     ]
    },
    {
     "data": {
      "text/plain": [
       "[0.42521438002586365, 0.8516837358474731]"
      ]
     },
     "execution_count": 19,
     "metadata": {},
     "output_type": "execute_result"
    }
   ],
   "source": [
    "model_1.evaluate(val_inputs,tf.one_hot(val_target,depth=6))"
   ]
  },
  {
   "cell_type": "code",
   "execution_count": 21,
   "id": "5ddb4f8f",
   "metadata": {},
   "outputs": [
    {
     "name": "stdout",
     "output_type": "stream",
     "text": [
      "\u001b[1m3257/3257\u001b[0m \u001b[32m━━━━━━━━━━━━━━━━━━━━\u001b[0m\u001b[37m\u001b[0m \u001b[1m6s\u001b[0m 2ms/step - accuracy: 0.8530 - loss: 0.4232\n",
      "Evaluation of Model1 is [0.42521438002586365, 0.8516837358474731]\n",
      "\u001b[1m3257/3257\u001b[0m \u001b[32m━━━━━━━━━━━━━━━━━━━━\u001b[0m\u001b[37m\u001b[0m \u001b[1m7s\u001b[0m 2ms/step - accuracy: 0.8564 - loss: 0.4180 - precision: 0.8726 - recall: 0.8486\n",
      "Evaluation of Model2 is [0.41946345567703247, 0.8554168343544006, 0.8717290759086609, 0.847518801689148]\n",
      "\u001b[1m3257/3257\u001b[0m \u001b[32m━━━━━━━━━━━━━━━━━━━━\u001b[0m\u001b[37m\u001b[0m \u001b[1m6s\u001b[0m 2ms/step - accuracy: 0.8519 - loss: 0.4837 - precision: 0.8646 - recall: 0.8463\n",
      "Evaluation of Model3 is [0.48614394664764404, 0.8507528305053711, 0.863664448261261, 0.8453307747840881]\n",
      "\u001b[1m3257/3257\u001b[0m \u001b[32m━━━━━━━━━━━━━━━━━━━━\u001b[0m\u001b[37m\u001b[0m \u001b[1m6s\u001b[0m 2ms/step - accuracy: 0.8467 - loss: 0.4896 - precision: 0.8594 - recall: 0.8419\n",
      "Evaluation of Model4 is [0.4878123998641968, 0.8453019857406616, 0.8579685688018799, 0.8404556512832642]\n"
     ]
    }
   ],
   "source": [
    "print(f'Evaluation of Model1 is {model_1.evaluate(val_inputs,tf.one_hot(val_target,depth=6))}')\n",
    "print(f'Evaluation of Model2 is {model_2.evaluate(val_inputs,tf.one_hot(val_target,depth=6))}')\n",
    "print(f'Evaluation of Model3 is {model_3.evaluate(val_inputs,tf.one_hot(val_target,depth=6))}')\n",
    "print(f'Evaluation of Model4 is {model_4.evaluate(val_inputs,tf.one_hot(val_target,depth=6))}')"
   ]
  },
  {
   "cell_type": "code",
   "execution_count": null,
   "id": "fb5571c3",
   "metadata": {},
   "outputs": [],
   "source": []
  }
 ],
 "metadata": {
  "kernelspec": {
   "display_name": "Python 3",
   "language": "python",
   "name": "python3"
  },
  "language_info": {
   "codemirror_mode": {
    "name": "ipython",
    "version": 3
   },
   "file_extension": ".py",
   "mimetype": "text/x-python",
   "name": "python",
   "nbconvert_exporter": "python",
   "pygments_lexer": "ipython3",
   "version": "3.11.9"
  }
 },
 "nbformat": 4,
 "nbformat_minor": 5
}
